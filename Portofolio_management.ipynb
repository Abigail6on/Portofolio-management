{
  "nbformat": 4,
  "nbformat_minor": 0,
  "metadata": {
    "colab": {
      "name": "Portofolio management.ipynb",
      "provenance": [],
      "collapsed_sections": []
    },
    "kernelspec": {
      "name": "python3",
      "display_name": "Python 3"
    }
  },
  "cells": [
    {
      "cell_type": "markdown",
      "metadata": {
        "id": "DmBqdaurfDTb",
        "colab_type": "text"
      },
      "source": [
        "# Portofolio management using Numpy"
      ]
    },
    {
      "cell_type": "code",
      "metadata": {
        "id": "RNx92rkkUlBf",
        "colab_type": "code",
        "colab": {}
      },
      "source": [
        "import numpy as np\n",
        "import matplotlib.pyplot as plt\n",
        "import pandas as pd"
      ],
      "execution_count": 0,
      "outputs": []
    },
    {
      "cell_type": "code",
      "metadata": {
        "id": "TAm5J956Xpuw",
        "colab_type": "code",
        "colab": {}
      },
      "source": [
        "N = 10\n",
        "assets = np.zeros((N, 100))\n",
        "returns = np.zeros((N, 100))"
      ],
      "execution_count": 0,
      "outputs": []
    },
    {
      "cell_type": "code",
      "metadata": {
        "id": "1QiYKxvaXrJC",
        "colab_type": "code",
        "colab": {}
      },
      "source": [
        "R_1 = np.random.normal(1.01, 0.03, 100)\n",
        "returns[0] = R_1\n",
        "assets[0] = np.cumprod(R_1)"
      ],
      "execution_count": 0,
      "outputs": []
    },
    {
      "cell_type": "code",
      "metadata": {
        "id": "9wvXHXRAXzwI",
        "colab_type": "code",
        "colab": {}
      },
      "source": [
        "for i in range(1, N):\n",
        "    R_i = R_1 + np.random.normal(0.001, 0.02, 100)\n",
        "    returns[i] = R_i # Set each row of returns equal to the new R_i array\n",
        "    assets[i] = np.cumprod(R_i)\n",
        "    \n",
        "mean_returns = [(np.mean(R) - 1)*100 for R in returns]\n",
        "return_volatilities = [np.std(R) for R in returns]"
      ],
      "execution_count": 0,
      "outputs": []
    },
    {
      "cell_type": "code",
      "metadata": {
        "id": "-AH64ToOYEKw",
        "colab_type": "code",
        "outputId": "8be91667-f949-4cf5-b31c-015efaa16b4c",
        "colab": {
          "base_uri": "https://localhost:8080/",
          "height": 295
        }
      },
      "source": [
        "plt.bar(np.arange(len(mean_returns)), mean_returns)\n",
        "plt.xlabel('Stock')\n",
        "plt.ylabel('Returns')\n",
        "plt.title('Returns for {0} Random Assets'.format(N));"
      ],
      "execution_count": 0,
      "outputs": [
        {
          "output_type": "display_data",
          "data": {
            "image/png": "[encoded data removed]",
            "text/plain": [
              "<Figure size 432x288 with 1 Axes>"
            ]
          },
          "metadata": {
            "tags": [],
            "needs_background": "light"
          }
        }
      ]
    },
    {
      "cell_type": "markdown",
      "metadata": {
        "id": "hveR7a-sYJwZ",
        "colab_type": "text"
      },
      "source": [
        "# Clcaulate expected return "
      ]
    },
    {
      "cell_type": "code",
      "metadata": {
        "id": "_GUyU2q4Wj7g",
        "colab_type": "code",
        "colab": {}
      },
      "source": [
        "weights = np.random.uniform(0, 1, N)\n",
        "weights = weights/np.sum(weights)"
      ],
      "execution_count": 0,
      "outputs": []
    },
    {
      "cell_type": "code",
      "metadata": {
        "id": "anCNs9aJYTob",
        "colab_type": "code",
        "outputId": "9b463c13-ad21-4224-cc25-579264922f53",
        "colab": {
          "base_uri": "https://localhost:8080/",
          "height": 35
        }
      },
      "source": [
        "p_returns = np.dot (weights, mean_returns)\n",
        "print (\"Expected return of the portofolio: \", p_returns)\n"
      ],
      "execution_count": 0,
      "outputs": [
        {
          "output_type": "stream",
          "text": [
            "Expected return of the portofolio:  0.9317431574576972\n"
          ],
          "name": "stdout"
        }
      ]
    },
    {
      "cell_type": "markdown",
      "metadata": {
        "id": "KeSgQIZiaa7i",
        "colab_type": "text"
      },
      "source": [
        "Linear algebra is pervasive in finance and in general. For example, the calculation of optimal weights according to modern portfolio theory is done using linear algebra techniques. The arrays and functions in NumPy allow us to handle these calculations in an intuitive way. For a quick intro to linear algebra and how to use NumPy to do more significant matrix calculations, proceed to the next section.\n",
        "\n",
        "# Matrix multiplication\n",
        "With matrix multiplication, the order in which the matrices are multiplied matters. Multiplying a matrix on the left side by another matrix may be just fine, but multiplying on the right may be undefined."
      ]
    },
    {
      "cell_type": "markdown",
      "metadata": {
        "id": "XBiFlI_JaxWG",
        "colab_type": "text"
      },
      "source": [
        "# Portfolio Variance\n",
        "First, we calculate the covariance matrix that relates all the individual stocks in our universe."
      ]
    },
    {
      "cell_type": "code",
      "metadata": {
        "id": "Ajuryrh0aV46",
        "colab_type": "code",
        "outputId": "4af8812a-8d79-4d8c-fd2c-3a2a161208b1",
        "colab": {
          "base_uri": "https://localhost:8080/",
          "height": 364
        }
      },
      "source": [
        "cov_mat = np.cov(returns)\n",
        "print(cov_mat)"
      ],
      "execution_count": 0,
      "outputs": [
        {
          "output_type": "stream",
          "text": [
            "[[0.00061075 0.00059685 0.00056904 0.00060991 0.00058923 0.00057248\n",
            "  0.0006599  0.00057706 0.00059378 0.00056432]\n",
            " [0.00059685 0.00092951 0.00057371 0.00061286 0.00057954 0.00054788\n",
            "  0.00062912 0.0005514  0.00060127 0.0005081 ]\n",
            " [0.00056904 0.00057371 0.00098483 0.00049571 0.00063764 0.00050221\n",
            "  0.00062508 0.00049855 0.00050227 0.00051605]\n",
            " [0.00060991 0.00061286 0.00049571 0.00098807 0.00056036 0.00055204\n",
            "  0.00061949 0.00061121 0.00059092 0.00055885]\n",
            " [0.00058923 0.00057954 0.00063764 0.00056036 0.00099974 0.00054974\n",
            "  0.00062025 0.00056672 0.00059125 0.00055386]\n",
            " [0.00057248 0.00054788 0.00050221 0.00055204 0.00054974 0.00089777\n",
            "  0.00067234 0.00058119 0.0005517  0.00061024]\n",
            " [0.0006599  0.00062912 0.00062508 0.00061949 0.00062025 0.00067234\n",
            "  0.00107506 0.00060486 0.0006372  0.00053201]\n",
            " [0.00057706 0.0005514  0.00049855 0.00061121 0.00056672 0.00058119\n",
            "  0.00060486 0.00089826 0.00056373 0.00063387]\n",
            " [0.00059378 0.00060127 0.00050227 0.00059092 0.00059125 0.0005517\n",
            "  0.0006372  0.00056373 0.00110398 0.00052503]\n",
            " [0.00056432 0.0005081  0.00051605 0.00055885 0.00055386 0.00061024\n",
            "  0.00053201 0.00063387 0.00052503 0.00097854]]\n"
          ],
          "name": "stdout"
        }
      ]
    },
    {
      "cell_type": "markdown",
      "metadata": {
        "id": "MZPdS_-bbbid",
        "colab_type": "text"
      },
      "source": [
        " For a reference on the evaluation of the variance of a portfolio as a matrix equation, please see the Wikipedia article on [modern portfolio theory](https://en.wikipedia.org/wiki/Modern_portfolio_theory)."
      ]
    },
    {
      "cell_type": "code",
      "metadata": {
        "id": "g8FoNT4Dbdgp",
        "colab_type": "code",
        "colab": {}
      },
      "source": [
        "A = np.array([\n",
        "        [1, 2, 3, 12, 6],\n",
        "        [4, 5, 6, 15, 20],\n",
        "        [7, 8, 9, 10, 10]        \n",
        "    ])\n",
        "B = np.array([\n",
        "        [4, 4, 2],\n",
        "        [2, 3, 1],\n",
        "        [6, 5, 8],\n",
        "        [9, 9, 9]\n",
        "    ])"
      ],
      "execution_count": 0,
      "outputs": []
    },
    {
      "cell_type": "code",
      "metadata": {
        "id": "HQiQMiPrbzRI",
        "colab_type": "code",
        "outputId": "5f23bcdc-0233-4c53-a9ce-327373ba56d5",
        "colab": {
          "base_uri": "https://localhost:8080/",
          "height": 69
        }
      },
      "source": [
        "print(A)"
      ],
      "execution_count": 0,
      "outputs": [
        {
          "output_type": "stream",
          "text": [
            "[[ 1  2  3 12  6]\n",
            " [ 4  5  6 15 20]\n",
            " [ 7  8  9 10 10]]\n"
          ],
          "name": "stdout"
        }
      ]
    },
    {
      "cell_type": "code",
      "metadata": {
        "id": "NOUOu1sab5f0",
        "colab_type": "code",
        "outputId": "91ef54e8-1c13-4003-8bad-75eac9439abd",
        "colab": {
          "base_uri": "https://localhost:8080/",
          "height": 104
        }
      },
      "source": [
        "print(np.transpose(A))"
      ],
      "execution_count": 0,
      "outputs": [
        {
          "output_type": "stream",
          "text": [
            "[[ 1  4  7]\n",
            " [ 2  5  8]\n",
            " [ 3  6  9]\n",
            " [12 15 10]\n",
            " [ 6 20 10]]\n"
          ],
          "name": "stdout"
        }
      ]
    },
    {
      "cell_type": "markdown",
      "metadata": {
        "id": "VYaxipPIcC-f",
        "colab_type": "text"
      },
      "source": [
        "# Calculate the portofolio volatility "
      ]
    },
    {
      "cell_type": "code",
      "metadata": {
        "id": "TJF45rS8cIIj",
        "colab_type": "code",
        "outputId": "5e8fc086-45b3-4674-cdf1-179dc2411db3",
        "colab": {
          "base_uri": "https://localhost:8080/",
          "height": 35
        }
      },
      "source": [
        "var_p = np.dot(np.dot(weights, cov_mat), weights.T)\n",
        "vol_p = np.sqrt(var_p)\n",
        "print(\"Portofolio volatility: \", vol_p)"
      ],
      "execution_count": 0,
      "outputs": [
        {
          "output_type": "stream",
          "text": [
            "Portofolio volatility:  0.025105103232758816\n"
          ],
          "name": "stdout"
        }
      ]
    },
    {
      "cell_type": "code",
      "metadata": {
        "id": "JDXefNEzdtSn",
        "colab_type": "code",
        "outputId": "e7045376-87c1-4fef-e70e-e7621f152c91",
        "colab": {
          "base_uri": "https://localhost:8080/",
          "height": 35
        }
      },
      "source": [
        "vol_p_alt = np.sqrt(np.var(np.dot(weights, returns), ddof = 1))\n",
        "print (\"Portofolio volatility: \", vol_p_alt)"
      ],
      "execution_count": 0,
      "outputs": [
        {
          "output_type": "stream",
          "text": [
            "Portofolio volatility:  0.025105103232758812\n"
          ],
          "name": "stdout"
        }
      ]
    },
    {
      "cell_type": "markdown",
      "metadata": {
        "id": "ShcNAaWSfHiB",
        "colab_type": "text"
      },
      "source": [
        "# Portofolio management using Pandas"
      ]
    },
    {
      "cell_type": "code",
      "metadata": {
        "id": "_7yGwjeNfK29",
        "colab_type": "code",
        "colab": {}
      },
      "source": [
        "import numpy as np\n",
        "import pandas as pd\n",
        "import matplotlib.pyplot as plt"
      ],
      "execution_count": 0,
      "outputs": []
    },
    {
      "cell_type": "markdown",
      "metadata": {
        "id": "YfCQj8pMf2ar",
        "colab_type": "text"
      },
      "source": [
        "Here we simulate some returns in NumPy, put them into a pandas DataFrame, and perform calculations to turn them into prices and plot them, all only using a few lines of code."
      ]
    },
    {
      "cell_type": "code",
      "metadata": {
        "id": "H_ZJnvsFf3VB",
        "colab_type": "code",
        "outputId": "4d521c24-7cc9-47ad-a10d-a82116ce376d",
        "colab": {
          "base_uri": "https://localhost:8080/",
          "height": 295
        }
      },
      "source": [
        "returns = pd.DataFrame(np.random.normal(1.0, 0.03, (100, 10)))\n",
        "prices =returns.cumprod()\n",
        "prices.plot()\n",
        "plt.title('Random Generated Prices')\n",
        "plt.xlabel('Time')\n",
        "plt.ylabel('price')\n",
        "plt.legend(loc=0)\n",
        "plt.show()"
      ],
      "execution_count": 0,
      "outputs": [
        {
          "output_type": "display_data",
          "data": {
            "image/png": "[encoded data removed]",
            "text/plain": [
              "<Figure size 432x288 with 1 Axes>"
            ]
          },
          "metadata": {
            "tags": [],
            "needs_background": "light"
          }
        }
      ]
    },
    {
      "cell_type": "markdown",
      "metadata": {
        "id": "IpEgRb7ixRq7",
        "colab_type": "text"
      },
      "source": [
        "# Pandas Data Structure"
      ]
    },
    {
      "cell_type": "code",
      "metadata": {
        "id": "i9RLYZ95xWgg",
        "colab_type": "code",
        "outputId": "8e051f3b-8b68-41a3-82c0-972850a6ace6",
        "colab": {
          "base_uri": "https://localhost:8080/",
          "height": 35
        }
      },
      "source": [
        "s = pd.Series([1, 2, np.nan, 4, 5])\n",
        "\n",
        "s.name = 'Toy series'\n",
        "print (s.name) "
      ],
      "execution_count": 0,
      "outputs": [
        {
          "output_type": "stream",
          "text": [
            "Toy series\n"
          ],
          "name": "stdout"
        }
      ]
    },
    {
      "cell_type": "code",
      "metadata": {
        "id": "v7AadpTdyf5E",
        "colab_type": "code",
        "outputId": "197fd172-b38a-4694-b64a-859eaf6542a0",
        "colab": {
          "base_uri": "https://localhost:8080/",
          "height": 69
        }
      },
      "source": [
        "new_index = pd.date_range(\"2016-01-01\", periods=len(s), freq=\"D\")\n",
        "print (new_index)"
      ],
      "execution_count": 0,
      "outputs": [
        {
          "output_type": "stream",
          "text": [
            "DatetimeIndex(['2016-01-01', '2016-01-02', '2016-01-03', '2016-01-04',\n",
            "               '2016-01-05'],\n",
            "              dtype='datetime64[ns]', freq='D')\n"
          ],
          "name": "stdout"
        }
      ]
    },
    {
      "cell_type": "code",
      "metadata": {
        "id": "9DIKFQ3gyb79",
        "colab_type": "code",
        "outputId": "3af58827-96d7-4e00-a7dc-0d78bfc86d38",
        "colab": {
          "base_uri": "https://localhost:8080/",
          "height": 69
        }
      },
      "source": [
        "s.index = new_index\n",
        "print (s.index)"
      ],
      "execution_count": 0,
      "outputs": [
        {
          "output_type": "stream",
          "text": [
            "DatetimeIndex(['2016-01-01', '2016-01-02', '2016-01-03', '2016-01-04',\n",
            "               '2016-01-05'],\n",
            "              dtype='datetime64[ns]', freq='D')\n"
          ],
          "name": "stdout"
        }
      ]
    },
    {
      "cell_type": "code",
      "metadata": {
        "id": "5lJR32HZF-4-",
        "colab_type": "code",
        "outputId": "a1d7f8fe-37b9-4886-f4ab-e18b37558af6",
        "colab": {
          "base_uri": "https://localhost:8080/",
          "height": 52
        }
      },
      "source": [
        "print (\"First element of the series: \", s.iloc[0])\n",
        "print (\"Last element of the series: \", s.iloc[len(s)-1])"
      ],
      "execution_count": 0,
      "outputs": [
        {
          "output_type": "stream",
          "text": [
            "First element of the series:  1.0\n",
            "Last element of the series:  5.0\n"
          ],
          "name": "stdout"
        }
      ]
    },
    {
      "cell_type": "code",
      "metadata": {
        "id": "kn_E7txNGHSj",
        "colab_type": "code",
        "outputId": "7fce28c3-cc0a-47d4-c98f-e73b5611d20a",
        "colab": {
          "base_uri": "https://localhost:8080/",
          "height": 104
        }
      },
      "source": [
        "start = 0\n",
        "end = len(s) - 1\n",
        "step = 1\n",
        "\n",
        "s.iloc[start:end:step]"
      ],
      "execution_count": 0,
      "outputs": [
        {
          "output_type": "execute_result",
          "data": {
            "text/plain": [
              "2016-01-01    1.0\n",
              "2016-01-02    2.0\n",
              "2016-01-03    NaN\n",
              "2016-01-04    4.0\n",
              "Freq: D, dtype: float64"
            ]
          },
          "metadata": {
            "tags": []
          },
          "execution_count": 61
        }
      ]
    }
  ]
}